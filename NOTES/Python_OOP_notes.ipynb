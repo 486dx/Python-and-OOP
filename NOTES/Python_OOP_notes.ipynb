{
 "cells": [
  {
   "cell_type": "markdown",
   "metadata": {},
   "source": [
    "**Python beyond the basics - Object Oriented Programming**\n",
    "-----------------------------------------------------------------\n",
    "\n",
    "Notes on Object Oriented Programming in Python."
   ]
  },
  {
   "cell_type": "markdown",
   "metadata": {},
   "source": [
    "**6 POINTS TO UNDERSTANDING CLASSES**\n",
    "1. An instance of a class knows what class it's from.\n",
    "2. Variables defined in the class are available to the instance.\n",
    "3. A method on an instance passes instance as the first argument to the method named `self` in the method.\n",
    "4. Instances have their own data, called `Instance Attributes`.\n",
    "5. Variables defined in the class are called `Class Attributes`.\n",
    "6. When we read an attribute, Python looks for it first in the instance, and then in the class."
   ]
  },
  {
   "cell_type": "markdown",
   "metadata": {},
   "source": [
    "#### 1. Everything in Python is an Object, including variables, types, numbers etc.. \n",
    "\n",
    "ie.. Every entity in Python is an object of a particular type. \n",
    "\n",
    "Each object has its own attributes as well. \n",
    "\n",
    "**Examples**"
   ]
  },
  {
   "cell_type": "code",
   "execution_count": 1,
   "metadata": {
    "collapsed": false
   },
   "outputs": [
    {
     "name": "stdout",
     "output_type": "stream",
     "text": [
      "<class 'list'>\n",
      "<class 'bool'>\n",
      "<class 'NoneType'>\n",
      "<class 'type'>\n"
     ]
    }
   ],
   "source": [
    "mylist = [\"a\", \"b\", \"c\"]\n",
    "mybool = True\n",
    "mynone = None\n",
    "\n",
    "def myfunc():\n",
    "    print(\"My function\")\n",
    "\n",
    "this_type = type(mylist)\n",
    "\n",
    "print(type(mylist))\n",
    "print(type(mybool))\n",
    "print(type(mynone))\n",
    "print(type(this_type))"
   ]
  },
  {
   "cell_type": "markdown",
   "metadata": {},
   "source": [
    "#### 2. Every object has got it's own attributes, some common to the object type, some common to every objects."
   ]
  },
  {
   "cell_type": "code",
   "execution_count": 1,
   "metadata": {
    "collapsed": false,
    "scrolled": false
   },
   "outputs": [
    {
     "data": {
      "text/plain": [
       "['__abs__',\n",
       " '__add__',\n",
       " '__and__',\n",
       " '__bool__',\n",
       " '__ceil__',\n",
       " '__class__',\n",
       " '__delattr__',\n",
       " '__dir__',\n",
       " '__divmod__',\n",
       " '__doc__',\n",
       " '__eq__',\n",
       " '__float__',\n",
       " '__floor__',\n",
       " '__floordiv__',\n",
       " '__format__',\n",
       " '__ge__',\n",
       " '__getattribute__',\n",
       " '__getnewargs__',\n",
       " '__gt__',\n",
       " '__hash__',\n",
       " '__index__',\n",
       " '__init__',\n",
       " '__int__',\n",
       " '__invert__',\n",
       " '__le__',\n",
       " '__lshift__',\n",
       " '__lt__',\n",
       " '__mod__',\n",
       " '__mul__',\n",
       " '__ne__',\n",
       " '__neg__',\n",
       " '__new__',\n",
       " '__or__',\n",
       " '__pos__',\n",
       " '__pow__',\n",
       " '__radd__',\n",
       " '__rand__',\n",
       " '__rdivmod__',\n",
       " '__reduce__',\n",
       " '__reduce_ex__',\n",
       " '__repr__',\n",
       " '__rfloordiv__',\n",
       " '__rlshift__',\n",
       " '__rmod__',\n",
       " '__rmul__',\n",
       " '__ror__',\n",
       " '__round__',\n",
       " '__rpow__',\n",
       " '__rrshift__',\n",
       " '__rshift__',\n",
       " '__rsub__',\n",
       " '__rtruediv__',\n",
       " '__rxor__',\n",
       " '__setattr__',\n",
       " '__sizeof__',\n",
       " '__str__',\n",
       " '__sub__',\n",
       " '__subclasshook__',\n",
       " '__truediv__',\n",
       " '__trunc__',\n",
       " '__xor__',\n",
       " 'bit_length',\n",
       " 'conjugate',\n",
       " 'denominator',\n",
       " 'from_bytes',\n",
       " 'imag',\n",
       " 'numerator',\n",
       " 'real',\n",
       " 'to_bytes']"
      ]
     },
     "execution_count": 1,
     "metadata": {},
     "output_type": "execute_result"
    }
   ],
   "source": [
    "var = 5\n",
    "dir(var)"
   ]
  },
  {
   "cell_type": "markdown",
   "metadata": {},
   "source": [
    "**NOTE:** In the above output, there are several attributes starting with and ending with underscores '__X__'. These are called 'Private' or 'Magic' attributes. \n",
    "\n",
    "**NOTE:** Many of the above attributes are for an integer object, which 'var' is. If the data type was different, many of the above would be attributes for that particular data type.\n",
    "\n"
   ]
  },
  {
   "cell_type": "markdown",
   "metadata": {
    "collapsed": true
   },
   "source": [
    "#### 3. MODULES vs CLASSES\n",
    "\n",
    "* Modules may contain Classes (one or more), and usually denotes a python file which can be imported in another Python file. It's just a collection of one or more classes and functions. \n",
    "\n",
    "* A Class is just a grouping of common functionality and is not supposed to be imported in another python file. \n",
    "\n"
   ]
  },
  {
   "cell_type": "markdown",
   "metadata": {},
   "source": [
    "#### 4.Every variable, functions etc.. defined inside a class is available for all of it's instances.\n"
   ]
  },
  {
   "cell_type": "code",
   "execution_count": 2,
   "metadata": {
    "collapsed": true
   },
   "outputs": [],
   "source": [
    "class TestClass(object):\n",
    "    value = 12\n",
    "    def new(self):\n",
    "        self.test = \"test\"\n",
    "\n",
    "testing = TestClass()"
   ]
  },
  {
   "cell_type": "markdown",
   "metadata": {},
   "source": [
    "* In the above code, we have a class, a variable named 'value', the function named 'new', as well as the attribute 'test' within the 'new' function. We create a new instance named 'testing' from the class 'TestClass'.\n",
    "\n",
    "* From now on, the instance 'testing' can access both 'value' and 'new', as shown below."
   ]
  },
  {
   "cell_type": "code",
   "execution_count": 3,
   "metadata": {
    "collapsed": false
   },
   "outputs": [
    {
     "data": {
      "text/plain": [
       "12"
      ]
     },
     "execution_count": 3,
     "metadata": {},
     "output_type": "execute_result"
    }
   ],
   "source": [
    "testing.value"
   ]
  },
  {
   "cell_type": "code",
   "execution_count": 4,
   "metadata": {
    "collapsed": false
   },
   "outputs": [
    {
     "data": {
      "text/plain": [
       "<bound method TestClass.new of <__main__.TestClass object at 0x7f2908bfe8d0>>"
      ]
     },
     "execution_count": 4,
     "metadata": {},
     "output_type": "execute_result"
    }
   ],
   "source": [
    "testing.new"
   ]
  },
  {
   "cell_type": "markdown",
   "metadata": {},
   "source": [
    "**5. What is 'self'?**\n",
    "\n",
    "* `self` is used as an argument in the functions, defined within a class. \n",
    "\n",
    "* `self` is used to access that particular function as a method, through the `instance` created from the class.\n",
    "\n",
    "* Check the following code, We have a class defined named 'Testing'. This class has a function called 'value'. We create an instance name 'test' from the class 'Testing'. \n"
   ]
  },
  {
   "cell_type": "code",
   "execution_count": 5,
   "metadata": {
    "collapsed": false
   },
   "outputs": [
    {
     "name": "stdout",
     "output_type": "stream",
     "text": [
      "Value = 10\n",
      "<__main__.Testing object at 0x7f2908bfeed0>\n",
      "<__main__.Testing object at 0x7f2908bfeed0>\n"
     ]
    }
   ],
   "source": [
    "class Testing(object):\n",
    "    def value(self):\n",
    "        print(\"Value = 10\")\n",
    "        print(self)  # Print out `self` to know what it is.\n",
    "\n",
    "test = Testing()\n",
    "test.value()\n",
    "print(test)"
   ]
  },
  {
   "cell_type": "markdown",
   "metadata": {},
   "source": [
    "* `self` is the instance that gets created from the class. ie.. `self` is the instance itself that gets created. \n",
    "\n",
    "* Here we have an instance named `test`. Hence `self` is `test` itself. \n",
    "\n",
    "* If you have more instances, `self` is each one of these, when that particular instance gets executed. \n",
    "\n",
    "* Remember that an instance is a copy of the `class` in memory, and multiple instances would be in various locations of the memory. From the above output, we prove that both the output of `self` and the `instance` are referring to the same memory location, which means they are same.\n",
    "\n",
    "**NOTE**: 'self' is not needed to be passed while creating an instance. It is passed automatically by the python interpreter to the instance. Hence the instances created out of classes are also known as **'BOUND INSTANCES'**.\n",
    "\n"
   ]
  },
  {
   "cell_type": "code",
   "execution_count": null,
   "metadata": {
    "collapsed": true
   },
   "outputs": [],
   "source": []
  }
 ],
 "metadata": {
  "kernelspec": {
   "display_name": "Python 2",
   "language": "python",
   "name": "python2"
  },
  "language_info": {
   "codemirror_mode": {
    "name": "ipython",
    "version": 2
   },
   "file_extension": ".py",
   "mimetype": "text/x-python",
   "name": "python",
   "nbconvert_exporter": "python",
   "pygments_lexer": "ipython2",
   "version": "2.7.11"
  }
 },
 "nbformat": 4,
 "nbformat_minor": 0
}
